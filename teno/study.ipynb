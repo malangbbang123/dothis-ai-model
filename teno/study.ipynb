{
 "cells": [
  {
   "cell_type": "code",
   "execution_count": 1,
   "metadata": {},
   "outputs": [
    {
     "ename": "SyntaxError",
     "evalue": "invalid syntax (3100291829.py, line 2)",
     "output_type": "error",
     "traceback": [
      "\u001b[0;36m  Cell \u001b[0;32mIn[1], line 2\u001b[0;36m\u001b[0m\n\u001b[0;31m    for i, n enumerate(nums):\u001b[0m\n\u001b[0m             ^\u001b[0m\n\u001b[0;31mSyntaxError\u001b[0m\u001b[0;31m:\u001b[0m invalid syntax\n"
     ]
    }
   ],
   "source": [
    "def twoSum(nums, target):\n",
    "    for i, n enumerate(nums):\n",
    "        complement = target - n\n",
    "    \n",
    "        if complement in nums[i + 1:]:\n",
    "            return [nums.index(n), nums[i + 1:].index(complement) + (i + 1)]"
   ]
  },
  {
   "cell_type": "code",
   "execution_count": null,
   "metadata": {},
   "outputs": [],
   "source": [
    "nums = [2, 7, 11, 15]\n",
    "target = 9\n",
    "nums_map = {}\n",
    "\n",
    "for i, num in enumerate(nums):\n",
    "    nums_map[num] = i\n",
    "\n",
    "for i, num in enumerate(nums):\n",
    "    if target - num in nums_map and i != nums_map[target - num]:"
   ]
  },
  {
   "cell_type": "code",
   "execution_count": 17,
   "metadata": {},
   "outputs": [
    {
     "name": "stdout",
     "output_type": "stream",
     "text": [
      "4.3392181396484375e-05\n",
      "7.653236389160156e-05\n"
     ]
    }
   ],
   "source": [
    "nums = [2, 7, 11, 15]\n",
    "nums_map = {}\n",
    "import time\n",
    "start = (time.time())\n",
    "for i, n in enumerate(nums):\n",
    "    nums_map[n] = i\n",
    "for i, num in enumerate(nums):\n",
    "    if target - num in nums_map and i != nums_map[target - num]:\n",
    "        end = time.time()\n",
    "        print(end-start)"
   ]
  },
  {
   "cell_type": "code",
   "execution_count": 18,
   "metadata": {},
   "outputs": [
    {
     "name": "stdout",
     "output_type": "stream",
     "text": [
      "[1, 0]\n"
     ]
    }
   ],
   "source": [
    "nums_map = {}\n",
    "\n",
    "for i, num in enumerate(nums):\n",
    "    if target - num in nums_map:\n",
    "        print([i, nums_map[target-num]])\n",
    "    nums_map[num] = i"
   ]
  },
  {
   "cell_type": "code",
   "execution_count": 16,
   "metadata": {},
   "outputs": [
    {
     "data": {
      "text/plain": [
       "1"
      ]
     },
     "execution_count": 16,
     "metadata": {},
     "output_type": "execute_result"
    }
   ],
   "source": [
    "nums_map[7]"
   ]
  },
  {
   "cell_type": "code",
   "execution_count": null,
   "metadata": {},
   "outputs": [],
   "source": []
  }
 ],
 "metadata": {
  "language_info": {
   "name": "python"
  }
 },
 "nbformat": 4,
 "nbformat_minor": 2
}
